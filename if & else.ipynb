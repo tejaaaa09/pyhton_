{
 "cells": [
  {
   "cell_type": "markdown",
   "id": "9929a869-10d8-4665-bf3e-e2e3249e9857",
   "metadata": {},
   "source": [
    "# IF STATEMENT:\n",
    "An if statement executes a block of code only when the specified condition is met."
   ]
  },
  {
   "cell_type": "code",
   "execution_count": 218,
   "id": "56b4669d-3163-4fff-9b7a-af00a08f6ec2",
   "metadata": {},
   "outputs": [
    {
     "data": {
      "text/plain": [
       "'\\nsyntax:\\nif condition:\\n    # body of if statement\\n'"
      ]
     },
     "execution_count": 218,
     "metadata": {},
     "output_type": "execute_result"
    }
   ],
   "source": [
    "\"\"\"\n",
    "syntax:\n",
    "if condition:\n",
    "    # body of if statement\n",
    "\"\"\""
   ]
  },
  {
   "cell_type": "markdown",
   "id": "cd920250-d53a-4090-ad69-dab70f78bb5a",
   "metadata": {},
   "source": [
    "# ELSE STATEMENT:\n",
    "An if statement can have an optional else clause. The else statement executes if the condition in the if statement evaluates to False.atement"
   ]
  },
  {
   "cell_type": "code",
   "execution_count": 223,
   "id": "48185d67-3ee5-4c78-bd7a-da66ffb50c4d",
   "metadata": {},
   "outputs": [
    {
     "data": {
      "text/plain": [
       "'\\nSyntax:\\nif condition:\\n    # body of if statement\\nelse:\\n    # body of else statement\\n'"
      ]
     },
     "execution_count": 223,
     "metadata": {},
     "output_type": "execute_result"
    }
   ],
   "source": [
    "'''\n",
    "Syntax:\n",
    "if condition:\n",
    "    # body of if statement\n",
    "else:\n",
    "    # body of else statement\n",
    "'''"
   ]
  },
  {
   "cell_type": "markdown",
   "id": "9f0ee7a5-b79a-41af-80d7-f2d5029e4889",
   "metadata": {},
   "source": [
    "## ELIF STATEMENT:\n",
    "* if we need to make a choice between more than two alternatives, we use the if...elif...else statement.\n",
    "* Here, if the condition inside the if statement evaluates to\n",
    "* \r\n",
    "True - the body of if executes, and the body of else is skipp.\r\n",
    "False - the body of else executes, and the body of if is skipped"
   ]
  },
  {
   "cell_type": "code",
   "execution_count": 271,
   "id": "4f94f3cf-887f-4fc6-983c-7610ef8fdc60",
   "metadata": {},
   "outputs": [],
   "source": [
    "#syntax:\n",
    "#if condition1:\n",
    "#code block 1\n",
    "#elif condition2:\n",
    "#code block 2\n",
    "#else:\n",
    "#code block 3"
   ]
  },
  {
   "cell_type": "markdown",
   "id": "d9422a96-93a5-4d0e-9957-09b96d13a661",
   "metadata": {},
   "source": [
    "* NUMBER IS EVEN OR ODD"
   ]
  },
  {
   "cell_type": "code",
   "execution_count": 237,
   "id": "2965342d-a080-498f-b8e1-34130685c960",
   "metadata": {},
   "outputs": [
    {
     "name": "stdin",
     "output_type": "stream",
     "text": [
      "enter a number 3\n"
     ]
    },
    {
     "name": "stdout",
     "output_type": "stream",
     "text": [
      "odd\n"
     ]
    }
   ],
   "source": [
    "n = int(input(\"enter a number\"))\n",
    "if n%2 != 0:\n",
    "    print(\"odd\")\n",
    "else:\n",
    "    print(\"even\")"
   ]
  },
  {
   "cell_type": "markdown",
   "id": "a2a6bdbd-b56e-45e9-a676-a731cb578b56",
   "metadata": {},
   "source": [
    "* LEAP YEAR OR NOT"
   ]
  },
  {
   "cell_type": "code",
   "execution_count": 246,
   "id": "ab7dee4b-8045-4979-9653-20089d557fbc",
   "metadata": {},
   "outputs": [
    {
     "name": "stdin",
     "output_type": "stream",
     "text": [
      "enter a year 2023\n"
     ]
    },
    {
     "name": "stdout",
     "output_type": "stream",
     "text": [
      "not a leap year\n"
     ]
    }
   ],
   "source": [
    "_luffy = int(input(\"enter a year\"))\n",
    "if _luffy%4==0:\n",
    "    print(\"leap year\")\n",
    "else:\n",
    "    print(\"not a leap year\")"
   ]
  },
  {
   "cell_type": "markdown",
   "id": "77b2518e-50b2-407b-ac54-785e9059d017",
   "metadata": {},
   "source": [
    "* LIST EMPTY OR NOT"
   ]
  },
  {
   "cell_type": "code",
   "execution_count": 250,
   "id": "915db9bb-6496-49bd-920f-223de1881d37",
   "metadata": {},
   "outputs": [
    {
     "name": "stdout",
     "output_type": "stream",
     "text": [
      "empty\n"
     ]
    }
   ],
   "source": [
    "n = []\n",
    "if not n:\n",
    "    print(\"empty\")\n",
    "else:\n",
    "    print(\"not empty\")"
   ]
  },
  {
   "cell_type": "markdown",
   "id": "01c1c3f2-41a8-459d-bbae-43ab45ac9d9d",
   "metadata": {},
   "source": [
    "* GRADE OF A STUDENT"
   ]
  },
  {
   "cell_type": "code",
   "execution_count": 258,
   "id": "198df9eb-4112-4d6a-8292-ec329c2e4858",
   "metadata": {},
   "outputs": [
    {
     "name": "stdin",
     "output_type": "stream",
     "text": [
      "please enter the value 55\n"
     ]
    },
    {
     "name": "stdout",
     "output_type": "stream",
     "text": [
      "e\n"
     ]
    }
   ],
   "source": [
    "m = int(input(\"please enter the value\"))\n",
    "if m>90:\n",
    "    print(\"a\")\n",
    "elif m>=80:\n",
    "    print(\"b\")\n",
    "elif m>=70:\n",
    "    print(\"c\")\n",
    "elif m>=60:\n",
    "    print(\"d\")\n",
    "elif m>=50:\n",
    "    print(\"e\")\n",
    "else:\n",
    "    print(\"fail\")"
   ]
  },
  {
   "cell_type": "code",
   "execution_count": 19,
   "id": "3a54a015-a88b-4642-8369-c3e5b5471677",
   "metadata": {},
   "outputs": [
    {
     "name": "stdin",
     "output_type": "stream",
     "text": [
      "enter height:  156\n",
      "enter weight:  70\n"
     ]
    },
    {
     "name": "stdout",
     "output_type": "stream",
     "text": [
      "overweight\n"
     ]
    }
   ],
   "source": [
    "#BODY MASS INDEX\n",
    "height_ = int(input(\"enter height: \")) #in kg\n",
    "weight_ = int(input(\"enter weight: \")) #in cm\n",
    "bmi_ = ((weight_)/((height_/100)**2))\n",
    "if bmi_ < 18.5:\n",
    "    print(\"under wight\")\n",
    "elif 18.5 <= bmi_ < 24.9:\n",
    "    print(\"normal weight\")\n",
    "elif 25 <= bmi_ < 29.9:\n",
    "    print(\"overweight\")\n",
    "else:\n",
    "    print(\"obesity\")"
   ]
  },
  {
   "cell_type": "markdown",
   "id": "7f953971-f1bc-4523-9d41-2b62e301fbd8",
   "metadata": {},
   "source": [
    "* CHECK WHEATHER GIVEN WORD IS A PALINDROME OR NOT"
   ]
  },
  {
   "cell_type": "code",
   "execution_count": 49,
   "id": "f33a9423-5a1e-4579-b789-08c77fc98045",
   "metadata": {},
   "outputs": [
    {
     "name": "stdin",
     "output_type": "stream",
     "text": [
      "enter a value:  1441\n"
     ]
    },
    {
     "name": "stdout",
     "output_type": "stream",
     "text": [
      "palindrome\n"
     ]
    }
   ],
   "source": [
    "value_ = input(\"enter a value: \").lower()\n",
    "rev = value_[::-1]\n",
    "if value_ == rev:\n",
    "    print(\"palindrome\")\n",
    "else:\n",
    "    print(\"not a palindrome\")"
   ]
  },
  {
   "cell_type": "markdown",
   "id": "f471a1aa-1464-4129-bd27-4d61dc9951b2",
   "metadata": {},
   "source": [
    "* WRITE A PYTHON PROGRAM TO FIND THE SMALLEST AMONG 3 NUMBERS.\n"
   ]
  },
  {
   "cell_type": "code",
   "execution_count": 69,
   "id": "2635c1d1-7094-4410-9036-1c5f5e92533a",
   "metadata": {},
   "outputs": [
    {
     "name": "stdin",
     "output_type": "stream",
     "text": [
      "enter a number:  2\n",
      "enter a number:  5\n",
      "enter a number:  9\n"
     ]
    },
    {
     "name": "stdout",
     "output_type": "stream",
     "text": [
      "a is smallest\n"
     ]
    }
   ],
   "source": [
    "a = int(input(\"enter a number: \"))\n",
    "b = int(input(\"enter a number: \"))\n",
    "c = int(input(\"enter a number: \"))\n",
    "if a<b and a<c:\n",
    "        print(\"a is smallest\")\n",
    "elif b<a and b<c:\n",
    "        print(\"b is smallest\")\n",
    "elif c<a and c<b:\n",
    "    print(\"c is smallest\")\n",
    "else:\n",
    "    print(\"none\")"
   ]
  },
  {
   "cell_type": "markdown",
   "id": "706810c2-08c0-4905-8303-3f1b87e2fe68",
   "metadata": {},
   "source": [
    "* SECOND FIND LARGEST NUMBER IN LIST"
   ]
  },
  {
   "cell_type": "code",
   "execution_count": 150,
   "id": "d12f8dd3-67a6-47b6-8712-3735ee720f7e",
   "metadata": {},
   "outputs": [
    {
     "name": "stdin",
     "output_type": "stream",
     "text": [
      "Enter values:  39873737\n"
     ]
    },
    {
     "name": "stdout",
     "output_type": "stream",
     "text": [
      "['3', '9', '8', '7', '3', '7', '3', '7']\n",
      "['3', '3', '3', '7', '7', '7', '8', '9']\n",
      "largest number:  8\n"
     ]
    }
   ],
   "source": [
    "value = input(\"Enter values: \").lower()\n",
    "n_ = list(value) #Converts string into list \n",
    "print(n_)\n",
    "n_.sort()\n",
    "print(n_)\n",
    "print(\"largest number: \", n_[-2])"
   ]
  },
  {
   "cell_type": "code",
   "execution_count": 160,
   "id": "c04f52e5-8099-4996-b6da-ae68fe97a413",
   "metadata": {},
   "outputs": [
    {
     "name": "stdin",
     "output_type": "stream",
     "text": [
      "Enter values:  kmmdjnnd288e838\n"
     ]
    },
    {
     "name": "stdout",
     "output_type": "stream",
     "text": [
      "['K', 'M', 'M', 'D', 'J', 'N', 'N', 'D', '2', '8', '8', 'E', '8', '3', '8']\n",
      "['N', 'N', 'M', 'M', 'K', 'J', 'E', 'D', 'D', '8', '8', '8', '8', '3', '2']\n",
      "2nd largest N\n"
     ]
    }
   ],
   "source": [
    "value = input(\"Enter values: \").upper()\n",
    "m = list(value)\n",
    "print(m)\n",
    "m.sort(reverse=1)\n",
    "print(m)\n",
    "if len(m)>2:\n",
    "    print(\"2nd largest\", m[1])\n",
    "else:\n",
    "    print(\"none\")"
   ]
  },
  {
   "cell_type": "markdown",
   "id": "a5317bed-5345-45d0-a1e1-36952deec3d3",
   "metadata": {},
   "source": [
    "* VOTE ELIGIBILITY"
   ]
  },
  {
   "cell_type": "code",
   "execution_count": 166,
   "id": "66c229b8-70cf-46ca-8d82-3d4db85c990f",
   "metadata": {},
   "outputs": [
    {
     "name": "stdin",
     "output_type": "stream",
     "text": [
      "enter a value:  28\n"
     ]
    },
    {
     "name": "stdout",
     "output_type": "stream",
     "text": [
      "eligible\n"
     ]
    }
   ],
   "source": [
    "age = int(input(\"enter a value: \"))\n",
    "if age<18:\n",
    "    print(\"not eligible\")\n",
    "else:\n",
    "    print(\"eligible\")"
   ]
  },
  {
   "cell_type": "markdown",
   "id": "2f981b7e-85aa-4ea4-b14b-337da31b446d",
   "metadata": {},
   "source": [
    "* TYPE OF GROUP"
   ]
  },
  {
   "cell_type": "code",
   "execution_count": 189,
   "id": "8b6fb0d1-e7f6-472d-9fb2-e8cf2bb6657a",
   "metadata": {},
   "outputs": [
    {
     "name": "stdin",
     "output_type": "stream",
     "text": [
      "enter a value:  51\n"
     ]
    },
    {
     "name": "stdout",
     "output_type": "stream",
     "text": [
      "retire\n"
     ]
    }
   ],
   "source": [
    "age1 = int(input(\"enter a value: \"))\n",
    "if age1<22:\n",
    "    print(\"student\")\n",
    "elif 22<=age1<=50:\n",
    "    print(\"empolyee\")\n",
    "elif age1>50:\n",
    "    print(\"retire\")\n",
    "else:\n",
    "    print(\"error\")"
   ]
  },
  {
   "cell_type": "code",
   "execution_count": null,
   "id": "01e7f8e5-f727-4f41-9abb-0a056b3d73e9",
   "metadata": {},
   "outputs": [],
   "source": []
  }
 ],
 "metadata": {
  "kernelspec": {
   "display_name": "Python 3 (ipykernel)",
   "language": "python",
   "name": "python3"
  },
  "language_info": {
   "codemirror_mode": {
    "name": "ipython",
    "version": 3
   },
   "file_extension": ".py",
   "mimetype": "text/x-python",
   "name": "python",
   "nbconvert_exporter": "python",
   "pygments_lexer": "ipython3",
   "version": "3.12.4"
  }
 },
 "nbformat": 4,
 "nbformat_minor": 5
}
