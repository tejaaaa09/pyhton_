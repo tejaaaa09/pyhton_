{
 "cells": [
  {
   "cell_type": "markdown",
   "id": "bb952548-e0db-4612-a3de-3a4c4e7d8028",
   "metadata": {},
   "source": [
    "# Dictionaries\n",
    "Dictionaries are used to store data values in key:value pairs.A dictionary is a collection which is ordered, changeable and do not allow duplicates.\n",
    "Dictionaries are written with curly brackets, and have keys and values. ictionaries cannot have two items with the same key. The values in dictionary items can be of any data type"
   ]
  },
  {
   "cell_type": "code",
   "execution_count": 28,
   "id": "f23540d8-8583-4545-92b3-a4587b66a03d",
   "metadata": {},
   "outputs": [
    {
     "name": "stdout",
     "output_type": "stream",
     "text": [
      "{'brand': 'Ford', 'model': 'Mustang', 'year': 1964}\n",
      "1964\n",
      "{'brand': 'Ford', 'model': 'Mustang', 'year': 1969}\n"
     ]
    }
   ],
   "source": [
    "CAR ={\n",
    "  \"brand\" : \"Ford\",\n",
    "  \"model\" : \"Mustang\",\n",
    "  \"year\" : 1964\n",
    "}\n",
    "print(CAR)\n",
    "print(CAR['year'])\n",
    "CAR[\"year\"] = 1969\n",
    "print(CAR)"
   ]
  },
  {
   "cell_type": "code",
   "execution_count": 40,
   "id": "6b0d2dd8-4b21-4c11-a96d-d1f0d6cb1ac2",
   "metadata": {},
   "outputs": [
    {
     "name": "stdout",
     "output_type": "stream",
     "text": [
      "{'NAME': 'circar', 'COACH': 'B1', 'SEAT': '9'}\n",
      "9\n",
      "{'NAME': 'circar', 'COACH': 'B1', 'SEAT': 72}\n"
     ]
    }
   ],
   "source": [
    "TRAVEL = {\n",
    "    \"NAME\" : \"circar\",\n",
    "    \"COACH\" : \"B1\",\n",
    "    \"SEAT\" : \"9\",\n",
    "}\n",
    "print(TRAVEL)\n",
    "print(TRAVEL['SEAT'])\n",
    "TRAVEL['SEAT'] = 72\n",
    "print(TRAVEL)"
   ]
  },
  {
   "cell_type": "code",
   "execution_count": 50,
   "id": "e38955f1-ebd4-4ec6-bbc4-6fb75c1c3f99",
   "metadata": {},
   "outputs": [
    {
     "name": "stdout",
     "output_type": "stream",
     "text": [
      "{'brand': 'Ducati', 'electric': True, 'Model': 'V21 L', 'colors': ['red', 'white', 'blue']}\n",
      "V21 L\n",
      "{'brand': 'tvs', 'electric': True, 'Model': 'V21 L', 'colors': ['red', 'white', 'blue']}\n"
     ]
    }
   ],
   "source": [
    "Bike = {\n",
    "  \"brand\": \"Ducati\",\n",
    "  \"electric\": True,\n",
    "  \"Model\" : \"V21 L\",\n",
    "  \"colors\": [\"red\", \"white\", \"blue\"]\n",
    "}\n",
    "print(Bike)\n",
    "print(Bike[\"Model\"])\n",
    "Bike['brand'] = \"tvs\"\n",
    "print(Bike)"
   ]
  },
  {
   "cell_type": "code",
   "execution_count": 54,
   "id": "46a06e82-045a-4d3d-8d85-515adcd7f397",
   "metadata": {},
   "outputs": [
    {
     "name": "stdout",
     "output_type": "stream",
     "text": [
      "{'game': 'free fire', 'device': 'mobile', 'player': 2}\n",
      "free fire\n",
      "{'game': 'free fire', 'device': 'pc', 'player': 2}\n"
     ]
    }
   ],
   "source": [
    "APP = {\n",
    "    \"game\" : \"free fire\",\n",
    "    \"device\" : \"mobile\",\n",
    "    \"player\" : 2\n",
    "}\n",
    "print(APP)\n",
    "print(APP[\"game\"])\n",
    "APP[\"device\"] = \"pc\"\n",
    "print(APP)"
   ]
  },
  {
   "cell_type": "markdown",
   "id": "1d1416c5-e32c-4f65-80d4-67acf41d5ee4",
   "metadata": {},
   "source": [
    "# METHODS\n",
    "*  clear()\tRemoves all the elements from the dictionary\n",
    "*  copy()\tReturns a copy of the dictionary\n",
    "*  fromkeys()\tReturns a dictionary with the specified keys and value\n",
    "*  get()\tReturns the value of the specified key\n",
    "*  items()\tReturns a list containing a tuple for each key value pair\n",
    "*  keys()\tReturns a list containing the dictionary's keys\n",
    "*  pop()\tRemoves the element with the specified key\n",
    "*  popitem()\tRemoves the last inserted key-value pair\n",
    "*  setdefault()\tReturns the value of the specified key. If the key does not exist: insert the key, with the specified value\n",
    "*  update()\tUpdates the dictionary with the specified key-value pairs\n",
    "*  values()\tReturns a list of all the values in the dictionary"
   ]
  },
  {
   "cell_type": "code",
   "execution_count": 99,
   "id": "696b4cb4-e8b3-4bf6-8e05-c7f92334122d",
   "metadata": {},
   "outputs": [
    {
     "name": "stdout",
     "output_type": "stream",
     "text": [
      "{'game': 'free fire', 'device': 'mobile', 'player': 2}\n",
      "2\n",
      "{}\n"
     ]
    }
   ],
   "source": [
    "APP = {\n",
    "    \"game\" : \"free fire\",\n",
    "    \"device\" : \"mobile\",\n",
    "    \"player\" : 2\n",
    "}\n",
    "x = APP.copy()\n",
    "print(x)\n",
    "Z = APP.get(\"player\")\n",
    "print(Z)\n",
    "APP.clear()\n",
    "print(APP)"
   ]
  },
  {
   "cell_type": "code",
   "execution_count": 83,
   "id": "d1b1ccf7-ca87-4720-b0ff-177d9d1cea90",
   "metadata": {},
   "outputs": [
    {
     "name": "stdout",
     "output_type": "stream",
     "text": [
      "{1: (1, 2, 3), 2: (1, 2, 3), 3: (1, 2, 3)}\n"
     ]
    }
   ],
   "source": [
    "k = (x, y, z)\n",
    "l = 1, 2, 3\n",
    "m = dict.fromkeys(k,l)\n",
    "print(m)"
   ]
  },
  {
   "cell_type": "code",
   "execution_count": 143,
   "id": "7cb5bfab-10d3-4946-b8f5-5dcae2437e71",
   "metadata": {},
   "outputs": [
    {
     "name": "stdout",
     "output_type": "stream",
     "text": [
      "dict_items([('NAME', 'circar'), ('COACH', 'B1'), ('SEAT', '9')])\n",
      "dict_keys(['NAME', 'COACH', 'SEAT'])\n",
      "{'COACH': 'B1', 'SEAT': '9'}\n",
      "{'COACH': 'B1'}\n",
      "B1\n"
     ]
    }
   ],
   "source": [
    "TRAVEL = {\n",
    "    \"NAME\" : \"circar\",\n",
    "    \"COACH\" : \"B1\",\n",
    "    \"SEAT\" : \"9\",\n",
    "}\n",
    "x = TRAVEL.items()\n",
    "print(x)\n",
    "z = TRAVEL.keys()\n",
    "print(z)\n",
    "TRAVEL.pop(\"NAME\")\n",
    "print(TRAVEL)\n",
    "TRAVEL.popitem()\n",
    "print(TRAVEL)\n",
    "k = TRAVEL.setdefault(\"COACH\")\n",
    "print(k)"
   ]
  },
  {
   "cell_type": "code",
   "execution_count": 151,
   "id": "20e209ae-fe0d-4e69-9392-f99b0b680dd4",
   "metadata": {},
   "outputs": [
    {
     "name": "stdout",
     "output_type": "stream",
     "text": [
      "{'game': 'free fire', 'device': 'mobile', 'player': 2, 'color': 'White'}\n",
      "dict_values(['free fire', 'mobile', 2, 'White'])\n"
     ]
    }
   ],
   "source": [
    "APP = {\n",
    "    \"game\" : \"free fire\",\n",
    "    \"device\" : \"mobile\",\n",
    "    \"player\" : 2\n",
    "}\n",
    "APP.update({\"color\": \"White\"})\n",
    "print(APP)\n",
    "x = APP.values()\n",
    "print(x)"
   ]
  },
  {
   "cell_type": "code",
   "execution_count": null,
   "id": "c325fb19-c303-4cda-9a60-94b25ff8feaf",
   "metadata": {},
   "outputs": [],
   "source": []
  }
 ],
 "metadata": {
  "kernelspec": {
   "display_name": "Python 3 (ipykernel)",
   "language": "python",
   "name": "python3"
  },
  "language_info": {
   "codemirror_mode": {
    "name": "ipython",
    "version": 3
   },
   "file_extension": ".py",
   "mimetype": "text/x-python",
   "name": "python",
   "nbconvert_exporter": "python",
   "pygments_lexer": "ipython3",
   "version": "3.12.4"
  }
 },
 "nbformat": 4,
 "nbformat_minor": 5
}
