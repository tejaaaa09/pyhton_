{
 "cells": [
  {
   "cell_type": "markdown",
   "id": "58f76861-20c8-4559-971f-cbbb05f58ed8",
   "metadata": {},
   "source": [
    "# Tuple"
   ]
  },
  {
   "cell_type": "markdown",
   "id": "f2d55f54-d98d-4b6c-adb1-3b534b891b39",
   "metadata": {},
   "source": [
    "Tuples are used to store multiple items in a single variable. A tuple is a collection which is ordered and unchangeable."
   ]
  },
  {
   "cell_type": "code",
   "execution_count": 125,
   "id": "9b32412a-2667-4184-a82e-6b689446d80a",
   "metadata": {},
   "outputs": [
    {
     "name": "stdout",
     "output_type": "stream",
     "text": [
      "<class 'tuple'>\n",
      "<class 'tuple'>\n",
      "<class 'tuple'>\n",
      "<class 'tuple'>\n"
     ]
    }
   ],
   "source": [
    "x =(\"luffy\", \"zoro\", \"sanji\")\n",
    "print(type(x))\n",
    "y = (\"naruto\", \"sasuke\", \"kakashi\")\n",
    "print(type(y))\n",
    "z = (\"9\",)\n",
    "print(type(z))\n",
    "v = (1, \"just\", 33.3, False)\n",
    "print(type(v))"
   ]
  },
  {
   "cell_type": "code",
   "execution_count": 123,
   "id": "1a4f4d80-c0c2-49bd-9f96-79cc7855a295",
   "metadata": {},
   "outputs": [
    {
     "name": "stdout",
     "output_type": "stream",
     "text": [
      "are\n",
      "<class 'tuple'>\n"
     ]
    },
    {
     "ename": "TypeError",
     "evalue": "'tuple' object does not support item assignment",
     "output_type": "error",
     "traceback": [
      "\u001b[1;31m------------------------------------------------------------------------\u001b[0m",
      "\u001b[1;31mTypeError\u001b[0m                              Traceback (most recent call last)",
      "Cell \u001b[1;32mIn[123], line 4\u001b[0m\n\u001b[0;32m      2\u001b[0m \u001b[38;5;28mprint\u001b[39m(n[\u001b[38;5;241m1\u001b[39m])\n\u001b[0;32m      3\u001b[0m \u001b[38;5;28mprint\u001b[39m(\u001b[38;5;28mtype\u001b[39m(n))\n\u001b[1;32m----> 4\u001b[0m n[\u001b[38;5;241m3\u001b[39m]\u001b[38;5;241m=\u001b[39m \u001b[38;5;124m\"\u001b[39m\u001b[38;5;124mthey\u001b[39m\u001b[38;5;124m\"\u001b[39m\n",
      "\u001b[1;31mTypeError\u001b[0m: 'tuple' object does not support item assignment"
     ]
    }
   ],
   "source": [
    "n = (\"Tuples\", \"are\", \"used\", \"to\", \"store\")\n",
    "print(n[1])\n",
    "print(type(n))\n",
    "n[3]= \"they\""
   ]
  },
  {
   "cell_type": "code",
   "execution_count": 127,
   "id": "58663370-4b02-4c2b-a71c-76778b9b1e8e",
   "metadata": {},
   "outputs": [
    {
     "name": "stdout",
     "output_type": "stream",
     "text": [
      "('a', 'single', 'variable')\n",
      "<class 'tuple'>\n",
      "('Tuples', 'are', 'used', 'to', 'store', 'multiple', 'items', 'in', 'a', 'single', 'variable', 'Tuples', 'are', 'used', 'to', 'store', 'multiple', 'items', 'in', 'a', 'single', 'variable', 'Tuples', 'are', 'used', 'to', 'store', 'multiple', 'items', 'in', 'a', 'single', 'variable', 'Tuples', 'are', 'used', 'to', 'store', 'multiple', 'items', 'in', 'a', 'single', 'variable', 'Tuples', 'are', 'used', 'to', 'store', 'multiple', 'items', 'in', 'a', 'single', 'variable', 'Tuples', 'are', 'used', 'to', 'store', 'multiple', 'items', 'in', 'a', 'single', 'variable', 'Tuples', 'are', 'used', 'to', 'store', 'multiple', 'items', 'in', 'a', 'single', 'variable', 'Tuples', 'are', 'used', 'to', 'store', 'multiple', 'items', 'in', 'a', 'single', 'variable')\n"
     ]
    }
   ],
   "source": [
    "m = (\"multiple\", \"items\", \"in\", \"a\", \"single\", \"variable\")\n",
    "print(m[3:9])        \n",
    "print(type(m))\n",
    "j = n + m\n",
    "print( j*8)"
   ]
  },
  {
   "cell_type": "markdown",
   "id": "227f49bf-ff8d-4faf-9643-55b769946130",
   "metadata": {},
   "source": [
    "# METHODS"
   ]
  },
  {
   "cell_type": "code",
   "execution_count": 137,
   "id": "0698b299-979d-4e3b-8529-f75e9c42cdc2",
   "metadata": {},
   "outputs": [
    {
     "name": "stdout",
     "output_type": "stream",
     "text": [
      "2\n"
     ]
    }
   ],
   "source": [
    "p = (\"1\", \"3\", \"3\", \"4\")\n",
    "print(p.count(\"3\"))\n"
   ]
  },
  {
   "cell_type": "code",
   "execution_count": 141,
   "id": "6d504fc4-38c3-4ffc-833f-a5fee05e20e7",
   "metadata": {},
   "outputs": [
    {
     "name": "stdout",
     "output_type": "stream",
     "text": [
      "1\n"
     ]
    }
   ],
   "source": [
    "x = (\"j\", \"h\", \"k\", \"l\", \"h\")\n",
    "print(x.index(\"h\"))"
   ]
  },
  {
   "cell_type": "markdown",
   "id": "4746de37-9cdc-4ed7-8a27-3544958e4fdc",
   "metadata": {},
   "source": [
    "# SET"
   ]
  },
  {
   "cell_type": "markdown",
   "id": "560a04b4-8f8a-401a-8853-95758052b5e4",
   "metadata": {},
   "source": [
    "Sets are used to store multiple items in a single variablE. Sets are used to store multiple items in a single variable. Sets are written with curly brackets. Sets cannot have two items with the same value."
   ]
  },
  {
   "cell_type": "code",
   "execution_count": 170,
   "id": "79142b04-5864-4a08-98b1-46e98c28fee4",
   "metadata": {},
   "outputs": [
    {
     "name": "stdout",
     "output_type": "stream",
     "text": [
      "<class 'set'>\n",
      "{0, True}\n",
      "<class 'set'>\n",
      "{1, (5-8j), 9.0, 'idea'}\n",
      "<class 'set'>\n"
     ]
    }
   ],
   "source": [
    "B = { 1, 2, 3, 5, 7}\n",
    "print(type(B))\n",
    "n = { True, 0, 1, False}\n",
    "print(n)\n",
    "print(type(n))\n",
    "k = set((1, 9.0, \"idea\",1 , 5-8j\n",
    "        ))\n",
    "print(k)\n",
    "print(type(k))"
   ]
  },
  {
   "cell_type": "code",
   "execution_count": 178,
   "id": "bd0ec131-234a-4d72-a9fd-23c048b3f6aa",
   "metadata": {},
   "outputs": [
    {
     "ename": "TypeError",
     "evalue": "'set' object is not subscriptable",
     "output_type": "error",
     "traceback": [
      "\u001b[1;31m------------------------------------------------------------------------\u001b[0m",
      "\u001b[1;31mTypeError\u001b[0m                              Traceback (most recent call last)",
      "Cell \u001b[1;32mIn[178], line 2\u001b[0m\n\u001b[0;32m      1\u001b[0m j\u001b[38;5;241m=\u001b[39m {\u001b[38;5;241m3\u001b[39m, \u001b[38;5;241m4.5\u001b[39m, \u001b[38;5;241m3\u001b[39m,\u001b[38;5;28;01mTrue\u001b[39;00m, \u001b[38;5;124m\"\u001b[39m\u001b[38;5;124malpha\u001b[39m\u001b[38;5;124m\"\u001b[39m}\n\u001b[1;32m----> 2\u001b[0m \u001b[38;5;28mprint\u001b[39m(j[\u001b[38;5;241m1\u001b[39m])\n",
      "\u001b[1;31mTypeError\u001b[0m: 'set' object is not subscriptable"
     ]
    }
   ],
   "source": [
    "j= {3, 4.5, 3,True, \"alpha\"}\n",
    "print(j[1])"
   ]
  },
  {
   "cell_type": "code",
   "execution_count": 198,
   "id": "e2e40f2d-655f-4129-b4ef-d3092b04dabd",
   "metadata": {},
   "outputs": [
    {
     "name": "stdout",
     "output_type": "stream",
     "text": [
      "{1, 2, 3, 899, 5}\n",
      "{0, 1, 2, 3, 899, 5, 4, 6.3}\n",
      "{0, 1, 2, 3, 899, 4, 6.3}\n",
      "{0, 1, 2, 3, 4, 6.3}\n"
     ]
    }
   ],
   "source": [
    "h = {1, 3, 5, 3, 2, 2, 2, 2}\n",
    "h.add(899)\n",
    "print(h)\n",
    "x={4, True, 0, 6.3}\n",
    "h.update(x)\n",
    "print(h)\n",
    "h.remove(5)\n",
    "print(h)\n",
    "h.discard(899)\n",
    "print(h)"
   ]
  },
  {
   "cell_type": "code",
   "execution_count": 210,
   "id": "7017cbd9-ce4f-4446-952b-f4ee57a4ead7",
   "metadata": {},
   "outputs": [
    {
     "name": "stdout",
     "output_type": "stream",
     "text": [
      "{0, 1, 2, 3, 4, 6.3}\n",
      "{0, True, 4, 6.3}\n",
      "{2, 3}\n",
      "{0, True, 2, 3, 4, 6.3}\n"
     ]
    }
   ],
   "source": [
    "m = h | x #h.union(x)\n",
    "print(m)\n",
    "i = m & x # m.intersection(x)\n",
    "print(i)\n",
    "g = m - i #m.difference(i)\n",
    "print(g)\n",
    "v = g^i #g.symetric_difference(i)\n",
    "print(v)"
   ]
  },
  {
   "cell_type": "code",
   "execution_count": null,
   "id": "41a54c65-744f-4837-ba93-bb6f0a4af2c4",
   "metadata": {},
   "outputs": [],
   "source": []
  }
 ],
 "metadata": {
  "kernelspec": {
   "display_name": "Python 3 (ipykernel)",
   "language": "python",
   "name": "python3"
  },
  "language_info": {
   "codemirror_mode": {
    "name": "ipython",
    "version": 3
   },
   "file_extension": ".py",
   "mimetype": "text/x-python",
   "name": "python",
   "nbconvert_exporter": "python",
   "pygments_lexer": "ipython3",
   "version": "3.12.4"
  }
 },
 "nbformat": 4,
 "nbformat_minor": 5
}
