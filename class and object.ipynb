{
 "cells": [
  {
   "cell_type": "markdown",
   "id": "7a433e57-8980-4192-a2ee-dc3b0c5b0648",
   "metadata": {},
   "source": [
    "### Python Classes/Objects:\n",
    "* Python is an object oriented programming language.\n",
    "* Almost everything in Python is an object, with its properties and methods.\n",
    "* A Class is like an object constructor, or a \"blueprint\" for creating objects."
   ]
  },
  {
   "cell_type": "markdown",
   "id": "e7726983-f3c6-4f33-ac97-84b548ba9b0e",
   "metadata": {},
   "source": [
    "### The __init__() Function:\n",
    "* The examples above are classes and objects in their simplest form, and are not really useful in real life applications.\n",
    "* To understand the meaning of classes we have to understand the built-in __init__() function.\n",
    "* All classes have a function called __init__(), which is always executed when the class is being initiated."
   ]
  },
  {
   "cell_type": "markdown",
   "id": "985b7713-0095-468b-b385-58f66f0c8aa6",
   "metadata": {},
   "source": [
    "### The __str__() Function:\n",
    "The __str__() function controls what should be returned when the class object is represented as a string."
   ]
  },
  {
   "cell_type": "markdown",
   "id": "d48478b1-8521-485f-8b18-c3d6561a70e1",
   "metadata": {},
   "source": [
    "### The self Parameter:\n",
    "The self parameter is a reference to the current instance of the class, and is used to access variables that belong to the class."
   ]
  },
  {
   "cell_type": "code",
   "execution_count": 1,
   "id": "1860a6e5-75c9-4821-9fbb-81a6d1cd9b49",
   "metadata": {},
   "outputs": [
    {
     "name": "stdin",
     "output_type": "stream",
     "text": [
      "enter the name:  rocky\n",
      "enter the room number:  13\n",
      "enter the bill:  27000\n"
     ]
    },
    {
     "name": "stdout",
     "output_type": "stream",
     "text": [
      "pateint of room number 103 has to pay amount of12000\n"
     ]
    }
   ],
   "source": [
    "a = input(\"enter the name: \")\n",
    "b = int(input(\"enter the room number: \"))\n",
    "c =input(\"enter the bill: \")\n",
    "class hospital:\n",
    "    def __init__(a, b, c):\n",
    "        a.b = b\n",
    "        a.c = c\n",
    "\n",
    "\n",
    "d = hospital(103, 12000)\n",
    "print(f\"pateint of room number {d.b} has to pay amount of{d.c}\")"
   ]
  },
  {
   "cell_type": "code",
   "execution_count": 51,
   "id": "29034aff-6368-4fea-88dc-3235e18bb50c",
   "metadata": {},
   "outputs": [
    {
     "name": "stdout",
     "output_type": "stream",
     "text": [
      "chicken is 179\n"
     ]
    }
   ],
   "source": [
    "class resturant:\n",
    "    def __init__(self, food, price):\n",
    "        self.food = food\n",
    "        self.price = price\n",
    "\n",
    "        \n",
    "v = resturant(\"chicken\", 179)\n",
    "print(f\"{v.food} is {v.price}\")"
   ]
  },
  {
   "cell_type": "code",
   "execution_count": 63,
   "id": "90552220-7830-425b-9011-397e60cb935e",
   "metadata": {},
   "outputs": [
    {
     "name": "stdout",
     "output_type": "stream",
     "text": [
      "today mirchi crop has  price of 400 per 10kg\n"
     ]
    }
   ],
   "source": [
    "class agriculture:\n",
    "    def __init__(self, crop, kg):\n",
    "        self.crop = crop\n",
    "        self.kg = kg\n",
    "\n",
    "        \n",
    "l = agriculture(\"mirchi\", 400)\n",
    "print(f\"today {l.crop} crop has  price of {l.kg} per 10kg\")"
   ]
  },
  {
   "cell_type": "code",
   "execution_count": 107,
   "id": "39da0ab9-f5de-4d41-91b4-de5d73a6d995",
   "metadata": {},
   "outputs": [],
   "source": [
    "class education:\n",
    "    def __init__(self, sub, section):\n",
    "        self.sub = sub\n",
    "        self.section = section\n",
    "\n",
    "    def __str__(self):\n",
    "        return f\"luffy choosed {self.sub} and he belongs to {self.section} section\""
   ]
  },
  {
   "cell_type": "code",
   "execution_count": 109,
   "id": "1cf487e6-481c-41e8-9462-2c213c8a2826",
   "metadata": {},
   "outputs": [
    {
     "name": "stdout",
     "output_type": "stream",
     "text": [
      "luffy choosed math and he belongs to A section\n"
     ]
    }
   ],
   "source": [
    "k = education(\"math\", \"A\")\n",
    "print(k)"
   ]
  },
  {
   "cell_type": "code",
   "execution_count": 115,
   "id": "9914db05-ca7b-4252-9412-775cb0736edd",
   "metadata": {},
   "outputs": [
    {
     "name": "stdout",
     "output_type": "stream",
     "text": [
      "zoro took bus number tanuku  for going to 89 home town\n"
     ]
    }
   ],
   "source": [
    "class transport:\n",
    "    def __init__(self, bus_route, no):\n",
    "        self.bus_route = bus_route\n",
    "        self.no = no\n",
    "\n",
    "    def __str__(self):\n",
    "        return f\"zoro took bus number {self.no}  for going to {self.bus_route} home town\"\n",
    "\n",
    "\n",
    "o = transport(89, \"tanuku\")\n",
    "print(o)"
   ]
  },
  {
   "cell_type": "code",
   "execution_count": 33,
   "id": "006294ff-5607-4a7e-ac37-3620d59e1b45",
   "metadata": {},
   "outputs": [
    {
     "name": "stdout",
     "output_type": "stream",
     "text": [
      "my account number 122879809998 is consider as saving\n"
     ]
    }
   ],
   "source": [
    "class banking:\n",
    "    def __init__(self, acc_num, type):\n",
    "        self.acc_num = acc_num\n",
    "        self.type = type\n",
    "        print(f\"my account number {self.acc_num} is consider as {self.type}\" )\n",
    "\n",
    "w = banking(122879809998, \"saving\")"
   ]
  },
  {
   "cell_type": "code",
   "execution_count": 1,
   "id": "515276fc-26f4-40b4-be11-77c8677f80a0",
   "metadata": {},
   "outputs": [
    {
     "name": "stdout",
     "output_type": "stream",
     "text": [
      "audi model r8\n"
     ]
    }
   ],
   "source": [
    "class automobile:\n",
    "    def __init__(self, company, model):\n",
    "        self.company = company\n",
    "        self.model = model\n",
    "        print(f\"{self.company} model {self.model}\" )\n",
    "\n",
    "w = automobile(\"audi\", \"r8\")"
   ]
  },
  {
   "cell_type": "code",
   "execution_count": 3,
   "id": "ee7901af-9317-4ee2-93fa-311ccd804fc7",
   "metadata": {},
   "outputs": [
    {
     "name": "stdout",
     "output_type": "stream",
     "text": [
      "circur model 5\n"
     ]
    }
   ],
   "source": [
    "class railway:\n",
    "    def __init__(self, train, berth):\n",
    "        self.train = train\n",
    "        self.berth = berth\n",
    "        print(f\"{self.train} {self.berth}\" )\n",
    "\n",
    "w = railway(\"circur\", \"\")"
   ]
  },
  {
   "cell_type": "code",
   "execution_count": null,
   "id": "4b369450-0109-4827-8c01-662d42a6bce7",
   "metadata": {},
   "outputs": [],
   "source": []
  }
 ],
 "metadata": {
  "kernelspec": {
   "display_name": "Python 3 (ipykernel)",
   "language": "python",
   "name": "python3"
  },
  "language_info": {
   "codemirror_mode": {
    "name": "ipython",
    "version": 3
   },
   "file_extension": ".py",
   "mimetype": "text/x-python",
   "name": "python",
   "nbconvert_exporter": "python",
   "pygments_lexer": "ipython3",
   "version": "3.12.4"
  }
 },
 "nbformat": 4,
 "nbformat_minor": 5
}
