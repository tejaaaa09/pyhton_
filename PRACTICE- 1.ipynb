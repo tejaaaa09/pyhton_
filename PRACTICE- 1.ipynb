{
 "cells": [
  {
   "cell_type": "markdown",
   "id": "e38437a3-797c-41ce-b16e-7f19a6272451",
   "metadata": {},
   "source": [
    "1) What is Python and why is it popular?\n",
    "2) What is an IDE and name a few popular Python IDEs?\n",
    "3) What are the rules for naming variables in Python?\n",
    "4) How do you assign multiple values to multiple variables in a single line?\n",
    "5) Can you use Python keywords as variable names? Why or why not?\n",
    "6) Why are comments important in programming?\n",
    "7) What are the basic data types in Python?\n",
    "8) How do you convert a string to an integer in Python?\n",
    "9) What is the difference between int and float?\n",
    "10) How do you check the data type of a variable?\n",
    "11) How do you add an element to a list?\n",
    "12) How do you create a tuple with one element?\n",
    "13) How do you access a value in a dictionary using a key?\n",
    "14) How do you access elements in a list?\n",
    "15) How do you access a character in a string?\n",
    "16) How do you format strings in Python?\n",
    "17) What is a tuple and how is it different from a list?\n",
    "18) How do you concatenate two tuples?\n",
    "19) How do you access values in a dictionary?\n",
    "20) How do you add a key-value pair to a dictionary?\n",
    "21) How do you remove a key-value pair from a dictionary?\n",
    "22) How do you add an element to a set?\n",
    "23) How do you remove an element from a set?\n",
    "24) What are the common set operations in Python?\n",
    "25) Write a Python program to find the index of an element in a tuple?"
   ]
  },
  {
   "cell_type": "markdown",
   "id": "5c0ccbff-89eb-46fe-ac7c-dec562a3e49a",
   "metadata": {},
   "source": [
    "# 1) What is Python and why is it popular?"
   ]
  },
  {
   "cell_type": "markdown",
   "id": "83e47be0-cbda-4caf-8a8e-24c6d27ecacd",
   "metadata": {},
   "source": [
    "*  Python is a object oreiented language and high level language.\n",
    "*  it is invented by guido van russion in year 1991."
   ]
  },
  {
   "cell_type": "markdown",
   "id": "8513bd16-09fc-4688-b7da-fe8863b8b42e",
   "metadata": {},
   "source": [
    "# 2) What is an IDE and name a few popular Python IDEs?"
   ]
  },
  {
   "cell_type": "markdown",
   "id": "21cd12f9-efd2-4fcf-87b7-30806629ead3",
   "metadata": {},
   "source": [
    "* ide is a platform where we can run and develop the program.\n",
    "some of them are jupter notebook, vs code, PyCharm."
   ]
  },
  {
   "cell_type": "markdown",
   "id": "767b0410-c272-4ab0-8500-14e6342c7861",
   "metadata": {},
   "source": [
    "# 3) What are the rules for naming variables in Python?\n",
    "*  a variable should be alpha numeric values.\n",
    "*  case senstive\n",
    "*  keywords can't be used.\n",
    "*  expect underscore we can't use special charatcer.\n",
    "*  a variable cannot start with digits."
   ]
  },
  {
   "cell_type": "markdown",
   "id": "71ced2b6-8fa0-4cfe-8e49-589ff7134c5b",
   "metadata": {},
   "source": [
    "# 4) How do you assign multiple values to multiple variables in a single line?\n",
    "*  h, j, k = 1, 2, 3"
   ]
  },
  {
   "cell_type": "markdown",
   "id": "cdfdd21b-1daa-4583-9260-20e17842e737",
   "metadata": {},
   "source": [
    " # 5) Can you use Python keywords as variable names? Why or why not?\n",
    "*  no we cannot use python keywords as a variable. because when we taken keyword as variable the computer will consider it as keyword."
   ]
  },
  {
   "cell_type": "markdown",
   "id": "005a8472-cb16-40ce-bb7c-bdf11af635cd",
   "metadata": {},
   "source": [
    "# 6) Why are comments important in programming?\n",
    "* for better understanding purpose of the code."
   ]
  },
  {
   "cell_type": "markdown",
   "id": "04257ebe-3c5a-41e3-9aff-7b07e19f3d15",
   "metadata": {},
   "source": [
    "# 7)What are the basic data types in Python?\n",
    "*  integer\n",
    "*  float\n",
    "*  complex\n",
    "*  boolen"
   ]
  },
  {
   "cell_type": "markdown",
   "id": "ff19d207-4c30-40a1-bddb-408ee76a9462",
   "metadata": {},
   "source": [
    "# 8)How do you convert a string to an integer in Python?\n",
    "by using int function "
   ]
  },
  {
   "cell_type": "code",
   "execution_count": 23,
   "id": "4ef446e6-7a88-4b75-a597-b15a6eb74cba",
   "metadata": {},
   "outputs": [
    {
     "name": "stdout",
     "output_type": "stream",
     "text": [
      "1\n"
     ]
    }
   ],
   "source": [
    "g = \"1\"\n",
    "print(int(g))"
   ]
  },
  {
   "cell_type": "markdown",
   "id": "287735c6-6f52-4771-ad76-e5271333b3d8",
   "metadata": {},
   "source": [
    "# 9)What is the difference between int and float?\n",
    "int is number float is a decimal value."
   ]
  },
  {
   "cell_type": "markdown",
   "id": "cbc4f01f-4132-497b-9a78-c76d8c470b6f",
   "metadata": {},
   "source": [
    "# 10)How do you check the data type of a variable?\n",
    "by using type function"
   ]
  },
  {
   "cell_type": "code",
   "execution_count": 29,
   "id": "65c00b00-a653-4d85-8ba2-6565b3d1ee67",
   "metadata": {},
   "outputs": [
    {
     "name": "stdout",
     "output_type": "stream",
     "text": [
      "<class 'int'>\n"
     ]
    }
   ],
   "source": [
    "o = 9\n",
    "print(type(o))"
   ]
  },
  {
   "cell_type": "markdown",
   "id": "fe1deec3-9447-4aae-a08f-3f01f447cb2e",
   "metadata": {},
   "source": [
    "# 11) How do you add an element to a list?\n",
    "we add a element"
   ]
  },
  {
   "cell_type": "code",
   "execution_count": 22,
   "id": "2b57e818-bd4f-44db-96be-de0392529550",
   "metadata": {},
   "outputs": [
    {
     "name": "stdout",
     "output_type": "stream",
     "text": [
      "[1, 8.9, '8', 7]\n"
     ]
    }
   ],
   "source": [
    "u = [1, 8.9, \"8\"]\n",
    "u.append(7)\n",
    "print(u)"
   ]
  },
  {
   "cell_type": "markdown",
   "id": "d13eb45c-0230-4bcd-9451-a37bac600848",
   "metadata": {},
   "source": [
    "# 12)How do you create a tuple with one element?\n",
    "a tuple elemt is consists of parenthesis and comma."
   ]
  },
  {
   "cell_type": "code",
   "execution_count": 40,
   "id": "78a16ac7-bec0-4cbe-849d-24b181b6565a",
   "metadata": {},
   "outputs": [
    {
     "name": "stdout",
     "output_type": "stream",
     "text": [
      "<class 'tuple'>\n"
     ]
    }
   ],
   "source": [
    "c =(\"3\",)\n",
    "print(type(c))"
   ]
  },
  {
   "cell_type": "markdown",
   "id": "ec93bcbc-64ec-4308-8d89-37e364daa851",
   "metadata": {},
   "source": [
    "# 13)How do you access a value in a dictionary using a key?"
   ]
  },
  {
   "cell_type": "code",
   "execution_count": 32,
   "id": "abb50369-ce7e-4c6c-bb5c-a8188249003c",
   "metadata": {},
   "outputs": [
    {
     "name": "stdout",
     "output_type": "stream",
     "text": [
      "<class 'dict'>\n",
      "{'game': 'free fire', 'player': 2}\n"
     ]
    }
   ],
   "source": [
    "d ={\n",
    "    \"game\" : \"free fire\",\n",
    "    \"player\" : 2\n",
    "}\n",
    "print(type(d))\n",
    "d.get(\"game\", \"free fire\")\n",
    "print(d)"
   ]
  },
  {
   "cell_type": "markdown",
   "id": "92eeceb3-2fa9-4682-a724-f44031046004",
   "metadata": {},
   "source": [
    "# 14)How do you access elements in a list?\n"
   ]
  },
  {
   "cell_type": "code",
   "execution_count": 54,
   "id": "058613dc-712b-4fb4-99ee-489fabb5ad1a",
   "metadata": {},
   "outputs": [
    {
     "name": "stdout",
     "output_type": "stream",
     "text": [
      "9\n"
     ]
    }
   ],
   "source": [
    "c =[\"h\", 9, True]\n",
    "print(c[1])"
   ]
  },
  {
   "cell_type": "markdown",
   "id": "8b07889b-c252-4756-8870-47906c7d4d82",
   "metadata": {},
   "source": [
    "# 15) How do you access a character in a string?"
   ]
  },
  {
   "cell_type": "code",
   "execution_count": 65,
   "id": "d03e3ded-a763-459c-b795-cace4b5a0f32",
   "metadata": {},
   "outputs": [
    {
     "name": "stdout",
     "output_type": "stream",
     "text": [
      "<class 'str'>\n",
      "d\n"
     ]
    }
   ],
   "source": [
    "v =(\"How do you access a character in a string\" )\n",
    "print(type(v))\n",
    "print(v[4])"
   ]
  },
  {
   "cell_type": "markdown",
   "id": "2d9ef3d9-ad28-4b89-9572-e52fa65f6c7e",
   "metadata": {},
   "source": [
    "# 16) How do you format strings in Python?"
   ]
  },
  {
   "cell_type": "markdown",
   "id": "dec81eaf-8e3e-42ae-b50b-ff00750aa6ea",
   "metadata": {},
   "source": [
    "*  by using % operator\n",
    "*  format method()\n",
    "*  f-string"
   ]
  },
  {
   "cell_type": "code",
   "execution_count": 59,
   "id": "480e6336-d69c-41ca-b444-536c64128e38",
   "metadata": {},
   "outputs": [
    {
     "name": "stdout",
     "output_type": "stream",
     "text": [
      "my frnd borrowed 5000 from me and i borrowed 2000 from him\n"
     ]
    }
   ],
   "source": [
    "x= 5000\n",
    "y = 2000\n",
    "g = \"my frnd borrowed {} from me and i borrowed {} from him\".format(x,y)\n",
    "print(g)"
   ]
  },
  {
   "cell_type": "markdown",
   "id": "d184f0b2-2366-420a-9b61-ac6a7786adcf",
   "metadata": {},
   "source": [
    "# 17) What is a tuple and how is it different from a list?\n",
    "tuples are immutable with parentheses and collections of data where lists are mutabl with square brackets with collection of data"
   ]
  },
  {
   "cell_type": "markdown",
   "id": "225c0e16-03da-4bd9-9703-803e75e69721",
   "metadata": {},
   "source": [
    "# 18) How do you concatenate two tuples?"
   ]
  },
  {
   "cell_type": "code",
   "execution_count": 79,
   "id": "5cb47632-8e42-4072-a457-e1e0914998c1",
   "metadata": {},
   "outputs": [
    {
     "name": "stdout",
     "output_type": "stream",
     "text": [
      "<class 'tuple'>\n",
      "('bat', 1, 2.67, 5)\n"
     ]
    },
    {
     "ename": "TypeError",
     "evalue": "can only concatenate tuple (not \"bool\") to tuple",
     "output_type": "error",
     "traceback": [
      "\u001b[1;31m---------------------------------------------------------------------------\u001b[0m",
      "\u001b[1;31mTypeError\u001b[0m                                 Traceback (most recent call last)",
      "Cell \u001b[1;32mIn[79], line 6\u001b[0m\n\u001b[0;32m      4\u001b[0m \u001b[38;5;28mprint\u001b[39m(\u001b[38;5;28mtype\u001b[39m(c))\n\u001b[0;32m      5\u001b[0m \u001b[38;5;28mprint\u001b[39m(c\u001b[38;5;241m+\u001b[39mn)\n\u001b[1;32m----> 6\u001b[0m \u001b[38;5;28mprint\u001b[39m(c \u001b[38;5;241m+\u001b[39m d)\n",
      "\u001b[1;31mTypeError\u001b[0m: can only concatenate tuple (not \"bool\") to tuple"
     ]
    }
   ],
   "source": [
    "c =(\"bat\", 1, 2.67,)\n",
    "n = (5,)\n",
    "d = (True)\n",
    "print(type(c))\n",
    "print(c+n)\n",
    "print(c + d)"
   ]
  },
  {
   "cell_type": "markdown",
   "id": "2cdaef38-2737-4ce6-b862-aa9b1e6c2627",
   "metadata": {},
   "source": [
    "# 19) How do you access values in a dictionary?\n",
    "by using method"
   ]
  },
  {
   "cell_type": "code",
   "execution_count": 3,
   "id": "6284383e-618e-4db8-af7c-4a1a9b0b87f2",
   "metadata": {},
   "outputs": [
    {
     "name": "stdout",
     "output_type": "stream",
     "text": [
      "<class 'dict'>\n",
      "free fire\n"
     ]
    }
   ],
   "source": [
    "d ={\n",
    "    \"game\" : \"free fire\",\n",
    "    \"player\" : 2\n",
    "}\n",
    "print(type(d))\n",
    "print(d[\"game\"])"
   ]
  },
  {
   "cell_type": "markdown",
   "id": "21b57cd2-c917-4469-b3c6-00bd9c93d4d1",
   "metadata": {},
   "source": [
    "# 20) How do you add a key-value pair to a dictionary?"
   ]
  },
  {
   "cell_type": "code",
   "execution_count": 45,
   "id": "9dfe446b-fff5-402b-baa2-8c35b8aca0e5",
   "metadata": {},
   "outputs": [
    {
     "name": "stdout",
     "output_type": "stream",
     "text": [
      "<class 'dict'>\n",
      "{'game': 'free fire', 'player': 2, 'device': 'pc'}\n"
     ]
    }
   ],
   "source": [
    "d ={\n",
    "    \"game\" : \"free fire\",\n",
    "    \"player\" : 2\n",
    "}\n",
    "print(type(d))\n",
    "c = {\"device\":\"pc\"}\n",
    "d.update(c)\n",
    "print(d)"
   ]
  },
  {
   "cell_type": "markdown",
   "id": "03847822-2af7-4ddd-916b-cbefaff05816",
   "metadata": {},
   "source": [
    "# 21) How do you remove a key-value pair from a dictionary?"
   ]
  },
  {
   "cell_type": "code",
   "execution_count": 47,
   "id": "09e8f142-3d69-4c8e-82a9-53aac1ffcd45",
   "metadata": {},
   "outputs": [
    {
     "name": "stdout",
     "output_type": "stream",
     "text": [
      "<class 'dict'>\n",
      "{'game': 'free fire'}\n"
     ]
    }
   ],
   "source": [
    "d ={\n",
    "    \"game\" : \"free fire\",\n",
    "    \"player\" : 2\n",
    "}\n",
    "print(type(d))\n",
    "d.pop(\"player\")\n",
    "print(d)"
   ]
  },
  {
   "cell_type": "markdown",
   "id": "2753992c-504a-4cfe-8f47-e66a6bb6ac1b",
   "metadata": {},
   "source": [
    "# 22) How do you add an element to a set?"
   ]
  },
  {
   "cell_type": "code",
   "execution_count": 50,
   "id": "dca106fc-e45c-46c0-973e-4648c2ca17e2",
   "metadata": {},
   "outputs": [
    {
     "name": "stdout",
     "output_type": "stream",
     "text": [
      "{2, 3, 5, 7, 8, 9}\n"
     ]
    }
   ],
   "source": [
    "g = {2, 2, 2, 3, 5, 7, 9,}\n",
    "c = {8}\n",
    "g.update(c)\n",
    "print(g)"
   ]
  },
  {
   "cell_type": "markdown",
   "id": "224b10c6-a2e8-4bcf-8271-22b352a8885b",
   "metadata": {},
   "source": [
    "# 23) How do you remove an element from a set?"
   ]
  },
  {
   "cell_type": "code",
   "execution_count": 38,
   "id": "4e0c04aa-5469-4b4f-ac2f-953b014dac52",
   "metadata": {},
   "outputs": [
    {
     "name": "stdout",
     "output_type": "stream",
     "text": [
      "{2, 3, 5, 9}\n"
     ]
    }
   ],
   "source": [
    "g = {2, 2, 2, 3, 5, 7, 9}\n",
    "g.remove(7)\n",
    "print(g)"
   ]
  },
  {
   "cell_type": "markdown",
   "id": "9e72e1dd-93f5-4eb0-b0a2-ec3e31867cde",
   "metadata": {},
   "source": [
    "# 24) What are the common set operations in Python?\n",
    "Intersection"
   ]
  },
  {
   "cell_type": "code",
   "execution_count": 164,
   "id": "87d0ec4b-f248-4351-b3e8-74c989fa8aaa",
   "metadata": {},
   "outputs": [
    {
     "name": "stdout",
     "output_type": "stream",
     "text": [
      "{5}\n"
     ]
    }
   ],
   "source": [
    "g = {2, 2, 2, 3, 5, 7, 9,}\n",
    "c = {5}\n",
    "v = g&c\n",
    "print (v)"
   ]
  },
  {
   "cell_type": "markdown",
   "id": "62150acc-4f41-462d-8c66-9d31de1ffb7e",
   "metadata": {},
   "source": [
    "# 25) Write a Python program to find the index of an element in a tuple?"
   ]
  },
  {
   "cell_type": "code",
   "execution_count": 167,
   "id": "676b4a49-8144-4a0c-b181-378b2eb388a0",
   "metadata": {},
   "outputs": [
    {
     "name": "stdout",
     "output_type": "stream",
     "text": [
      "<class 'tuple'>\n",
      "hat\n"
     ]
    }
   ],
   "source": [
    "c = (\"6\", \"hat\",)\n",
    "print(type(c))\n",
    "print(c[1])"
   ]
  },
  {
   "cell_type": "code",
   "execution_count": null,
   "id": "d93c2c8b-8aff-4f63-8bce-2937e3fd8818",
   "metadata": {},
   "outputs": [],
   "source": []
  }
 ],
 "metadata": {
  "kernelspec": {
   "display_name": "Python 3 (ipykernel)",
   "language": "python",
   "name": "python3"
  },
  "language_info": {
   "codemirror_mode": {
    "name": "ipython",
    "version": 3
   },
   "file_extension": ".py",
   "mimetype": "text/x-python",
   "name": "python",
   "nbconvert_exporter": "python",
   "pygments_lexer": "ipython3",
   "version": "3.12.4"
  }
 },
 "nbformat": 4,
 "nbformat_minor": 5
}
