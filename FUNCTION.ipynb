{
 "cells": [
  {
   "cell_type": "markdown",
   "id": "ee0335f3-0808-4a24-83bf-cefc0588786c",
   "metadata": {},
   "source": [
    "### FUNCTIONS:\n",
    "* function is a block of code which only runs when it is called.\n",
    "* You can pass data, known as parameters, into a function.\n",
    "* A function can return data as a result."
   ]
  },
  {
   "cell_type": "markdown",
   "id": "d911070d-99fe-49e6-b021-0f9fdab29855",
   "metadata": {},
   "source": [
    "### 1) a resturant with 5 veg and 5 non veg"
   ]
  },
  {
   "cell_type": "code",
   "execution_count": 27,
   "id": "c497becd-0cd1-48b6-b156-f726c5439fed",
   "metadata": {},
   "outputs": [
    {
     "name": "stdout",
     "output_type": "stream",
     "text": [
      "Renvo restaurant\n",
      "non veg list: ['Egg Bhurji', 'Butter Chicken', 'Murgh Dum Biryani', 'Spicy Chettinad Chicken', 'Prawn Thokku']\n",
      "veg list:  ['potato', 'carrot', 'pea', 'green beans', 'cauliflower']\n"
     ]
    },
    {
     "name": "stdin",
     "output_type": "stream",
     "text": [
      "enter the name of dish:  carrot\n"
     ]
    },
    {
     "name": "stdout",
     "output_type": "stream",
     "text": [
      "please wait sir your food carrot is going to be placed with in few mins\n"
     ]
    }
   ],
   "source": [
    "print(\"Renvo restaurant\")\n",
    "non_veg = [\"Egg Bhurji\", \"Butter Chicken\", \"Murgh Dum Biryani\", \"Spicy Chettinad Chicken\", \"Prawn Thokku\"]\n",
    "veg_ = [\"potato\", \"carrot\", \"pea\", \"green beans\", \"cauliflower\"]\n",
    "print(\"non veg list:\",non_veg)\n",
    "print(\"veg list: \", veg_)\n",
    "customer = input(\"enter the name of dish: \")\n",
    "\n",
    "def restaurant(veg_, non_veg):\n",
    "    if customer in veg_:\n",
    "        print(f\"please wait sir your food {customer} is going to be placed with in few mins\")\n",
    "    elif customer in non_veg:\n",
    "        print(f\"please wait sir your dish {customer} is going to be placed with in few mins\")\n",
    "    else:\n",
    "        print(f\"sorry! ,this iteam {customer} is not avaliable in our restaurant\")\n",
    " \n",
    "\n",
    "restaurant(veg_, non_veg)"
   ]
  },
  {
   "cell_type": "markdown",
   "id": "fdc195a2-37a7-4f40-acbe-71751f1619d2",
   "metadata": {},
   "source": [
    "###  2) Code for prime or not by using function"
   ]
  },
  {
   "cell_type": "code",
   "execution_count": 62,
   "id": "6b676797-712a-411d-b081-f01d65ddc8d8",
   "metadata": {},
   "outputs": [
    {
     "name": "stdin",
     "output_type": "stream",
     "text": [
      "enter a number:  4\n"
     ]
    },
    {
     "name": "stdout",
     "output_type": "stream",
     "text": [
      "not prime\n"
     ]
    }
   ],
   "source": [
    "n = int(input(\"enter a number: \"))\n",
    "def prime_(n):\n",
    "    for i in range(2,n):\n",
    "        if n%i!=0:\n",
    "            print(\"prime\")\n",
    "            break\n",
    "        else:\n",
    "            print(\"not prime\")\n",
    "            break\n",
    "\n",
    "prime_(n)"
   ]
  },
  {
   "cell_type": "markdown",
   "id": "259de32a-1427-4957-b180-ddbfa575b882",
   "metadata": {},
   "source": [
    "### 3) code to 1 to 5 rows"
   ]
  },
  {
   "cell_type": "code",
   "execution_count": 102,
   "id": "c31617d8-ddad-48ce-b7e2-3cfbd104201b",
   "metadata": {},
   "outputs": [
    {
     "name": "stdin",
     "output_type": "stream",
     "text": [
      " enter the value:  5\n"
     ]
    },
    {
     "name": "stdout",
     "output_type": "stream",
     "text": [
      "\n",
      "1 \n",
      "2 2 \n",
      "3 3 3 \n",
      "4 4 4 4 \n",
      "5 5 5 5 5 "
     ]
    }
   ],
   "source": [
    "n = int(input(\" enter the value: \"))\n",
    "for i in range(1,n+1):\n",
    "    print()\n",
    "    for j in range(i):\n",
    "        print(i,end=\" \")"
   ]
  },
  {
   "cell_type": "markdown",
   "id": "8c140580-b29b-4265-ada9-04520719fab3",
   "metadata": {},
   "source": [
    "### 4) To convert Celsius to Fahrenheit"
   ]
  },
  {
   "cell_type": "code",
   "execution_count": 126,
   "id": "1da4c470-b906-42f6-9041-0db13a8a9bf9",
   "metadata": {},
   "outputs": [
    {
     "name": "stdin",
     "output_type": "stream",
     "text": [
      "Enter the value:  39\n"
     ]
    },
    {
     "name": "stdout",
     "output_type": "stream",
     "text": [
      "39.0 Celsius into 102.2 Fahrenheit\n"
     ]
    }
   ],
   "source": [
    "C = float(input(\"Enter the value: \"))\n",
    "F=((C*(9/5))+32)\n",
    "print(f\"{C} Celsius into {F} Fahrenheit\")"
   ]
  },
  {
   "cell_type": "markdown",
   "id": "1cb9b8e4-1568-4499-a624-d4fc903c9f0f",
   "metadata": {},
   "source": [
    "### 5) simple interest"
   ]
  },
  {
   "cell_type": "code",
   "execution_count": 135,
   "id": "7cd2a24c-6b1e-4dc5-9034-3145813f41d4",
   "metadata": {},
   "outputs": [
    {
     "name": "stdin",
     "output_type": "stream",
     "text": [
      "Enter the Principal amount:  20000\n",
      "Enter the Time period:  5\n",
      "Enter the Rate of interest:  1.75\n"
     ]
    },
    {
     "name": "stdout",
     "output_type": "stream",
     "text": [
      "simple ineterest is 1750.0\n"
     ]
    }
   ],
   "source": [
    "P = int(input(\"Enter the Principal amount: \"))\n",
    "T = int(input(\"Enter the Time period: \"))   #IN YEARS\n",
    "R = float(input(\"Enter the Rate of interest: \"))\n",
    "SI = (P*T*R)/100\n",
    "print(F\"simple ineterest is {SI}\")"
   ]
  },
  {
   "cell_type": "markdown",
   "id": "9459a821-46c7-4f2f-9ee1-f5fde6df7c16",
   "metadata": {},
   "source": [
    "### 6) INT INTO DECEMICAL USING FUNCTIONS"
   ]
  },
  {
   "cell_type": "code",
   "execution_count": 146,
   "id": "1d523f25-c2eb-4e09-85fa-91151110bcf2",
   "metadata": {},
   "outputs": [
    {
     "name": "stdin",
     "output_type": "stream",
     "text": [
      "enter the number:  9\n"
     ]
    },
    {
     "name": "stdout",
     "output_type": "stream",
     "text": [
      "9.0\n"
     ]
    }
   ],
   "source": [
    "N = int(input(\"enter the number: \"))\n",
    "def convert(N):\n",
    "    z = float(N)\n",
    "    print(z)\n",
    "\n",
    "convert(N)"
   ]
  },
  {
   "cell_type": "markdown",
   "id": "b2a1b54b-d3a2-43db-a70b-253d212c639b",
   "metadata": {},
   "source": [
    "### 7) CHAR IS DIGIT OR NOT"
   ]
  },
  {
   "cell_type": "code",
   "execution_count": 7,
   "id": "3710ce41-1799-4e33-b08e-c5370d1f7cf5",
   "metadata": {},
   "outputs": [
    {
     "name": "stdin",
     "output_type": "stream",
     "text": [
      "enter the character:  @\n"
     ]
    },
    {
     "name": "stdout",
     "output_type": "stream",
     "text": [
      "it is not\n"
     ]
    }
   ],
   "source": [
    "j = input(\"enter the character: \")\n",
    "if j.isdigit():\n",
    "    print(\"it is digit\")\n",
    "else:\n",
    "    print(\"it is not\")"
   ]
  },
  {
   "cell_type": "markdown",
   "id": "7bf57657-7433-4954-b1eb-0f657f5bf069",
   "metadata": {},
   "source": [
    "### 8)NON REPEATING FIRST OCCURANCE VALUE"
   ]
  },
  {
   "cell_type": "code",
   "execution_count": 14,
   "id": "ad030905-47ac-4616-85a1-0ac797ed1bc9",
   "metadata": {},
   "outputs": [
    {
     "name": "stdin",
     "output_type": "stream",
     "text": [
      "Enter a value:  google\n"
     ]
    },
    {
     "name": "stdout",
     "output_type": "stream",
     "text": [
      "NON-REPEATING FIRST OCCURANCE VALUE is l\n"
     ]
    }
   ],
   "source": [
    "k = input(\"Enter a value: \")\n",
    "for i in k:\n",
    "    if k.count(i)==1:\n",
    "        print(f\"NON-REPEATING FIRST OCCURANCE VALUE is {i}\")\n",
    "        break\n",
    "else:\n",
    "    print(f\"NO NON-REPEATING FIRST OCCURANCE VALUE\")"
   ]
  },
  {
   "cell_type": "markdown",
   "id": "773ee8fc-aca4-44f9-a076-7b522b28e9ef",
   "metadata": {},
   "source": [
    "### 9) REPLACE SPACE WITH CHAR"
   ]
  },
  {
   "cell_type": "code",
   "execution_count": 25,
   "id": "20624da1-012a-4eeb-bc97-fb901fc28cda",
   "metadata": {},
   "outputs": [
    {
     "name": "stdin",
     "output_type": "stream",
     "text": [
      "enter the char:  one piece\n",
      "enter the replacing char:  _\n"
     ]
    },
    {
     "name": "stdout",
     "output_type": "stream",
     "text": [
      "one_piece\n"
     ]
    }
   ],
   "source": [
    "A  = input(\"enter the char: \")\n",
    "B = input(\"enter the replacing char: \")\n",
    "x = A.replace(\" \",B)\n",
    "print(x)"
   ]
  },
  {
   "cell_type": "markdown",
   "id": "bb9ca159-e5e7-4c18-8a22-f8711ae1cb94",
   "metadata": {},
   "source": [
    "### 10) Greatest common divisor"
   ]
  },
  {
   "cell_type": "code",
   "execution_count": 31,
   "id": "5f7a3f8a-2c74-47b5-8579-c2a7592fdc42",
   "metadata": {},
   "outputs": [
    {
     "ename": "SyntaxError",
     "evalue": "incomplete input (3012115376.py, line 5)",
     "output_type": "error",
     "traceback": [
      "\u001b[1;36m  Cell \u001b[1;32mIn[31], line 5\u001b[1;36m\u001b[0m\n\u001b[1;33m    \u001b[0m\n\u001b[1;37m    ^\u001b[0m\n\u001b[1;31mSyntaxError\u001b[0m\u001b[1;31m:\u001b[0m incomplete input\n"
     ]
    }
   ],
   "source": [
    "g = input(\"enter the value: \")\n",
    "d = input(\"enter the value: \")\n",
    "def greatest(g,d):\n",
    "    while d != 0:\n",
    "        "
   ]
  },
  {
   "cell_type": "markdown",
   "id": "4e30830b-faf6-4bf5-8e41-a242fd7b1b82",
   "metadata": {},
   "source": [
    "### 11)swap the number"
   ]
  },
  {
   "cell_type": "code",
   "execution_count": 38,
   "id": "bfd50958-4ca8-489d-9417-e1ed50e8992f",
   "metadata": {},
   "outputs": [
    {
     "name": "stdin",
     "output_type": "stream",
     "text": [
      "enter the value:  4\n",
      "enter the value:  5\n"
     ]
    },
    {
     "name": "stdout",
     "output_type": "stream",
     "text": [
      "value is  5\n",
      "value is  4\n"
     ]
    }
   ],
   "source": [
    "g = input(\"enter the value: \")\n",
    "d = input(\"enter the value: \")\n",
    "class\n",
    "g,d = d,g\n",
    "print(\"value is \", g)\n",
    "print(\"value is \", d)"
   ]
  },
  {
   "cell_type": "markdown",
   "id": "eceb8eed-ebfa-4589-93cb-245754b77538",
   "metadata": {},
   "source": [
    "### 12) REMOVE DUPLICATE VALUES"
   ]
  },
  {
   "cell_type": "code",
   "execution_count": 41,
   "id": "7bb0dc10-82ab-493c-95e5-aa393aa64513",
   "metadata": {},
   "outputs": [
    {
     "name": "stdout",
     "output_type": "stream",
     "text": [
      "[1, 2, 3, 34, 1212]\n"
     ]
    }
   ],
   "source": [
    "V = [1,2,34,2,1,2,3,1,2,1212,1,2]\n",
    "RDV = list(set(V))\n",
    "print(RDV)"
   ]
  },
  {
   "cell_type": "markdown",
   "id": "8e6f38dc-fffe-4a8d-89e0-0992e12003d5",
   "metadata": {},
   "source": [
    "### 13) ADD TWO VALUES WITH AP"
   ]
  },
  {
   "cell_type": "code",
   "execution_count": 19,
   "id": "89cefb64-1a3d-46ab-b5c3-925a930c977e",
   "metadata": {},
   "outputs": [
    {
     "name": "stdin",
     "output_type": "stream",
     "text": [
      "enter the value:  7\n",
      "enter the value:  9\n"
     ]
    },
    {
     "name": "stdout",
     "output_type": "stream",
     "text": [
      "16 is sum of 2 numbers\n"
     ]
    }
   ],
   "source": [
    "l = int(input(\"enter the value: \"))\n",
    "k = int(input(\"enter the value: \"))\n",
    "n = sum([l,k])\n",
    "print(f\"{n} is sum of 2 numbers\")"
   ]
  },
  {
   "cell_type": "code",
   "execution_count": 41,
   "id": "aba74bdd-807c-4ab8-9641-a01d887949b4",
   "metadata": {},
   "outputs": [
    {
     "name": "stdin",
     "output_type": "stream",
     "text": [
      "enter a value:  1\n",
      "enter a value:  2\n"
     ]
    },
    {
     "name": "stdout",
     "output_type": "stream",
     "text": [
      " after swap 2 and 1\n"
     ]
    }
   ],
   "source": [
    "num1 = int(input(\"enter a value: \"))\n",
    "num2 = int(input(\"enter a value: \"))\n",
    "class swap:\n",
    "    def __init__(self, num1, num2):\n",
    "        self.num1 = num1\n",
    "        self.num2 = num2\n",
    "        num1,num2 = num2, num1\n",
    "        swap = f\" after swap {num1} and {num2}\"\n",
    "        print(swap)\n",
    "\n",
    "x = swap(num1,num2)"
   ]
  },
  {
   "cell_type": "code",
   "execution_count": null,
   "id": "b66a6f56-45a1-47fb-a4cb-2b8816177c63",
   "metadata": {},
   "outputs": [],
   "source": []
  }
 ],
 "metadata": {
  "kernelspec": {
   "display_name": "Python 3 (ipykernel)",
   "language": "python",
   "name": "python3"
  },
  "language_info": {
   "codemirror_mode": {
    "name": "ipython",
    "version": 3
   },
   "file_extension": ".py",
   "mimetype": "text/x-python",
   "name": "python",
   "nbconvert_exporter": "python",
   "pygments_lexer": "ipython3",
   "version": "3.12.4"
  }
 },
 "nbformat": 4,
 "nbformat_minor": 5
}
